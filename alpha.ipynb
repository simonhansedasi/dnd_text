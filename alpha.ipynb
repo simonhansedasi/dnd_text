{
 "cells": [
  {
   "cell_type": "code",
   "execution_count": 1,
   "metadata": {},
   "outputs": [],
   "source": [
    "import numpy as np"
   ]
  },
  {
   "cell_type": "code",
   "execution_count": 4,
   "metadata": {},
   "outputs": [
    {
     "data": {
      "text/plain": [
       "chararray([[b'g', '', '', '', '', '', '', '', '', '', '', '', '', '', ''],\n",
       "           ['', '', '', '', '', '', '', '', '', '', '', '', '', '', ''],\n",
       "           ['', '', '', '', '', '', '', '', '', '', '', '', '', '', ''],\n",
       "           ['', '', '', '', '', '', '', '', '', '', '', '', '', '', ''],\n",
       "           ['', '', '', '', '', '', '', '', '', '', '', '', '', '', ''],\n",
       "           ['', '', '', '', '', '', '', '', '', '', '', '', '', '', ''],\n",
       "           ['', '', '', '', '', '', '', '', '', '', '', '', '', '', ''],\n",
       "           ['', '', '', '', '', '', '', '', '', '', '', '', '', '', ''],\n",
       "           ['', '', '', '', '', '', '', '', '', '', '', '', '', '', ''],\n",
       "           ['', '', '', '', '', '', '', '', '', '', '', '', '', '', ''],\n",
       "           ['', '', '', '', '', '', '', '', '', '', '', '', '', '', ''],\n",
       "           ['', '', '', '', '', '', '', '', '', '', '', '', '', '', b'P']],\n",
       "          dtype='|S1')"
      ]
     },
     "execution_count": 4,
     "metadata": {},
     "output_type": "execute_result"
    }
   ],
   "source": [
    "board = np.chararray(shape = (12,15))\n",
    "\n",
    "board[:,:] = ''\n",
    "\n",
    "g = 'g'\n",
    "board[0,0] = g\n",
    "g_ind = np.where(board == b'g')\n",
    "\n",
    "p = 'P'\n",
    "\n",
    "board[11,14] = P\n",
    "p_ind = np.where(board == b'P')\n",
    "\n",
    "board"
   ]
  },
  {
   "cell_type": "markdown",
   "metadata": {},
   "source": [
    "# A goblin approaches! Choose your weapon!\n",
    "### 1. Sword  2. Bow"
   ]
  },
  {
   "cell_type": "code",
   "execution_count": 3,
   "metadata": {},
   "outputs": [
    {
     "name": "stdin",
     "output_type": "stream",
     "text": [
      " 2\n"
     ]
    }
   ],
   "source": [
    "weap = input()"
   ]
  },
  {
   "cell_type": "code",
   "execution_count": null,
   "metadata": {},
   "outputs": [],
   "source": [
    "def move(who = p, w = 'north', d = 5):\n",
    "    f = p_ind\n",
    "    "
   ]
  }
 ],
 "metadata": {
  "kernelspec": {
   "display_name": "Python 3",
   "language": "python",
   "name": "python3"
  },
  "language_info": {
   "codemirror_mode": {
    "name": "ipython",
    "version": 3
   },
   "file_extension": ".py",
   "mimetype": "text/x-python",
   "name": "python",
   "nbconvert_exporter": "python",
   "pygments_lexer": "ipython3",
   "version": "3.7.6"
  }
 },
 "nbformat": 4,
 "nbformat_minor": 4
}
